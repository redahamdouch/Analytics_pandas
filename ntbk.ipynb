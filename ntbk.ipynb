{
 "cells": [
  {
   "attachments": {},
   "cell_type": "markdown",
   "metadata": {},
   "source": [
    "## Imports"
   ]
  },
  {
   "cell_type": "code",
   "execution_count": 2,
   "metadata": {},
   "outputs": [],
   "source": [
    "import pandas as pd \n",
    "import numpy as np\n",
    "import re \n",
    "import geopandas\n",
    "import folium\n",
    "import matplotlib.pyplot as plt \n",
    "from collections import Counter\n",
    "import datetime\n",
    "from currency_converter import CurrencyConverter"
   ]
  },
  {
   "cell_type": "code",
   "execution_count": 3,
   "metadata": {},
   "outputs": [],
   "source": [
    "company_df=pd.read_excel('dataset.xlsx',sheet_name='COMPANY')\n",
    "investment_df=pd.read_excel('dataset.xlsx',sheet_name='INVESTMENT')\n",
    "acquisition_df=pd.read_excel('dataset.xlsx',sheet_name='ACQUISITION')\n",
    "employee_df=pd.read_excel('dataset.xlsx',sheet_name='EMPLOYEE')"
   ]
  },
  {
   "attachments": {},
   "cell_type": "markdown",
   "metadata": {},
   "source": [
    "## Quick view of the Dataframes"
   ]
  },
  {
   "cell_type": "code",
   "execution_count": 17,
   "metadata": {},
   "outputs": [
    {
     "data": {
      "text/plain": [
       "['1001-5000',\n",
       " '5001-10000',\n",
       " '51-100',\n",
       " '10001+',\n",
       " '1-10',\n",
       " '101-250',\n",
       " '501-1000',\n",
       " '251-500',\n",
       " '11-50',\n",
       " '—']"
      ]
     },
     "execution_count": 17,
     "metadata": {},
     "output_type": "execute_result"
    }
   ],
   "source": [
    "emp_number =company_df['EMPLOYEE_NUMBER'].unique().tolist()\n",
    "emp_number\n"
   ]
  },
  {
   "cell_type": "code",
   "execution_count": 13,
   "metadata": {},
   "outputs": [
    {
     "data": {
      "text/html": [
       "<div>\n",
       "<style scoped>\n",
       "    .dataframe tbody tr th:only-of-type {\n",
       "        vertical-align: middle;\n",
       "    }\n",
       "\n",
       "    .dataframe tbody tr th {\n",
       "        vertical-align: top;\n",
       "    }\n",
       "\n",
       "    .dataframe thead th {\n",
       "        text-align: right;\n",
       "    }\n",
       "</style>\n",
       "<table border=\"1\" class=\"dataframe\">\n",
       "  <thead>\n",
       "    <tr style=\"text-align: right;\">\n",
       "      <th></th>\n",
       "      <th>COMPANY_NAME</th>\n",
       "      <th>CATEGORY</th>\n",
       "      <th>LOCATION</th>\n",
       "      <th>FOUNDED_ON</th>\n",
       "      <th>EXITED_ON</th>\n",
       "      <th>CLOSED_ON</th>\n",
       "      <th>REVENU_RANGE</th>\n",
       "      <th>EMPLOYEE_NUMBER</th>\n",
       "    </tr>\n",
       "  </thead>\n",
       "  <tbody>\n",
       "    <tr>\n",
       "      <th>0</th>\n",
       "      <td>Twitter</td>\n",
       "      <td>Blogging Platforms, Messaging, SMS, Social Media</td>\n",
       "      <td>San Francisco, California, United States</td>\n",
       "      <td>Mar 21, 2006</td>\n",
       "      <td>Nov 7, 2013</td>\n",
       "      <td>—</td>\n",
       "      <td>$1B to $10B</td>\n",
       "      <td>1001-5000</td>\n",
       "    </tr>\n",
       "  </tbody>\n",
       "</table>\n",
       "</div>"
      ],
      "text/plain": [
       "  COMPANY_NAME                                          CATEGORY  \\\n",
       "0      Twitter  Blogging Platforms, Messaging, SMS, Social Media   \n",
       "\n",
       "                                   LOCATION    FOUNDED_ON    EXITED_ON  \\\n",
       "0  San Francisco, California, United States  Mar 21, 2006  Nov 7, 2013   \n",
       "\n",
       "  CLOSED_ON REVENU_RANGE EMPLOYEE_NUMBER  \n",
       "0         —  $1B to $10B       1001-5000  "
      ]
     },
     "execution_count": 13,
     "metadata": {},
     "output_type": "execute_result"
    }
   ],
   "source": [
    "company_df.head(1)"
   ]
  },
  {
   "cell_type": "code",
   "execution_count": 4,
   "metadata": {},
   "outputs": [
    {
     "data": {
      "text/html": [
       "<div>\n",
       "<style scoped>\n",
       "    .dataframe tbody tr th:only-of-type {\n",
       "        vertical-align: middle;\n",
       "    }\n",
       "\n",
       "    .dataframe tbody tr th {\n",
       "        vertical-align: top;\n",
       "    }\n",
       "\n",
       "    .dataframe thead th {\n",
       "        text-align: right;\n",
       "    }\n",
       "</style>\n",
       "<table border=\"1\" class=\"dataframe\">\n",
       "  <thead>\n",
       "    <tr style=\"text-align: right;\">\n",
       "      <th></th>\n",
       "      <th>COMPANY_NAME</th>\n",
       "      <th>FUNDING_TYPE</th>\n",
       "      <th>MONEY_RAISED</th>\n",
       "      <th>ANNOUNCED_DATE</th>\n",
       "      <th>INVESTMENT_STAGE</th>\n",
       "    </tr>\n",
       "  </thead>\n",
       "  <tbody>\n",
       "    <tr>\n",
       "      <th>0</th>\n",
       "      <td>Pipe</td>\n",
       "      <td>Venture - Series Unknown</td>\n",
       "      <td>$250,000,000</td>\n",
       "      <td>Mar 31, 2021</td>\n",
       "      <td>—</td>\n",
       "    </tr>\n",
       "    <tr>\n",
       "      <th>1</th>\n",
       "      <td>Pipe</td>\n",
       "      <td>Series A</td>\n",
       "      <td>$50,000,000</td>\n",
       "      <td>Mar 9, 2021</td>\n",
       "      <td>Early Stage Venture</td>\n",
       "    </tr>\n",
       "    <tr>\n",
       "      <th>2</th>\n",
       "      <td>Pipe</td>\n",
       "      <td>Seed</td>\n",
       "      <td>$6,000,000</td>\n",
       "      <td>Feb 25, 2020</td>\n",
       "      <td>Seed</td>\n",
       "    </tr>\n",
       "  </tbody>\n",
       "</table>\n",
       "</div>"
      ],
      "text/plain": [
       "  COMPANY_NAME              FUNDING_TYPE  MONEY_RAISED ANNOUNCED_DATE  \\\n",
       "0         Pipe  Venture - Series Unknown  $250,000,000   Mar 31, 2021   \n",
       "1         Pipe                  Series A   $50,000,000    Mar 9, 2021   \n",
       "2         Pipe                      Seed    $6,000,000   Feb 25, 2020   \n",
       "\n",
       "      INVESTMENT_STAGE  \n",
       "0                    —  \n",
       "1  Early Stage Venture  \n",
       "2                 Seed  "
      ]
     },
     "execution_count": 4,
     "metadata": {},
     "output_type": "execute_result"
    }
   ],
   "source": [
    "investment_df.head(3)"
   ]
  },
  {
   "cell_type": "code",
   "execution_count": 5,
   "metadata": {},
   "outputs": [
    {
     "data": {
      "text/html": [
       "<div>\n",
       "<style scoped>\n",
       "    .dataframe tbody tr th:only-of-type {\n",
       "        vertical-align: middle;\n",
       "    }\n",
       "\n",
       "    .dataframe tbody tr th {\n",
       "        vertical-align: top;\n",
       "    }\n",
       "\n",
       "    .dataframe thead th {\n",
       "        text-align: right;\n",
       "    }\n",
       "</style>\n",
       "<table border=\"1\" class=\"dataframe\">\n",
       "  <thead>\n",
       "    <tr style=\"text-align: right;\">\n",
       "      <th></th>\n",
       "      <th>COMPANY_NAME</th>\n",
       "      <th>ACQUIREE_NAME</th>\n",
       "      <th>ANNOUNCED_DATE</th>\n",
       "      <th>PRICE</th>\n",
       "      <th>ACQUISITION_TYPE</th>\n",
       "    </tr>\n",
       "  </thead>\n",
       "  <tbody>\n",
       "    <tr>\n",
       "      <th>0</th>\n",
       "      <td>IBM</td>\n",
       "      <td>Turbonomic</td>\n",
       "      <td>Apr 29, 2021</td>\n",
       "      <td>$2,000,000,000</td>\n",
       "      <td>Acquisition</td>\n",
       "    </tr>\n",
       "    <tr>\n",
       "      <th>1</th>\n",
       "      <td>IBM</td>\n",
       "      <td>myInvenio</td>\n",
       "      <td>Apr 15, 2021</td>\n",
       "      <td>—</td>\n",
       "      <td>Acquisition</td>\n",
       "    </tr>\n",
       "    <tr>\n",
       "      <th>2</th>\n",
       "      <td>IBM</td>\n",
       "      <td>Taos Mountain</td>\n",
       "      <td>Jan 14, 2021</td>\n",
       "      <td>—</td>\n",
       "      <td>Acquisition</td>\n",
       "    </tr>\n",
       "  </tbody>\n",
       "</table>\n",
       "</div>"
      ],
      "text/plain": [
       "  COMPANY_NAME  ACQUIREE_NAME ANNOUNCED_DATE           PRICE ACQUISITION_TYPE\n",
       "0          IBM     Turbonomic   Apr 29, 2021  $2,000,000,000      Acquisition\n",
       "1          IBM      myInvenio   Apr 15, 2021               —      Acquisition\n",
       "2          IBM  Taos Mountain   Jan 14, 2021               —      Acquisition"
      ]
     },
     "execution_count": 5,
     "metadata": {},
     "output_type": "execute_result"
    }
   ],
   "source": [
    "acquisition_df.head(3)"
   ]
  },
  {
   "cell_type": "code",
   "execution_count": null,
   "metadata": {},
   "outputs": [],
   "source": []
  },
  {
   "cell_type": "code",
   "execution_count": 6,
   "metadata": {},
   "outputs": [
    {
     "data": {
      "text/html": [
       "<div>\n",
       "<style scoped>\n",
       "    .dataframe tbody tr th:only-of-type {\n",
       "        vertical-align: middle;\n",
       "    }\n",
       "\n",
       "    .dataframe tbody tr th {\n",
       "        vertical-align: top;\n",
       "    }\n",
       "\n",
       "    .dataframe thead th {\n",
       "        text-align: right;\n",
       "    }\n",
       "</style>\n",
       "<table border=\"1\" class=\"dataframe\">\n",
       "  <thead>\n",
       "    <tr style=\"text-align: right;\">\n",
       "      <th></th>\n",
       "      <th>EMPLOYEE_MD5</th>\n",
       "      <th>JOB_TITLES</th>\n",
       "      <th>COMPANY_NAME</th>\n",
       "      <th>ATTENDED_SCHOOLS</th>\n",
       "    </tr>\n",
       "  </thead>\n",
       "  <tbody>\n",
       "    <tr>\n",
       "      <th>0</th>\n",
       "      <td>aac4a9fe0edc50a77072eae64578a892</td>\n",
       "      <td>CEO</td>\n",
       "      <td>Twitter</td>\n",
       "      <td>NaN</td>\n",
       "    </tr>\n",
       "    <tr>\n",
       "      <th>1</th>\n",
       "      <td>f9c87bcba2ffe2237e039b2e2c86b16f</td>\n",
       "      <td>Co-Founder</td>\n",
       "      <td>Twitter</td>\n",
       "      <td>Northeastern University University of Massach...</td>\n",
       "    </tr>\n",
       "    <tr>\n",
       "      <th>2</th>\n",
       "      <td>36830ffebad9a630da8a7a03a45f2730</td>\n",
       "      <td>Team Member</td>\n",
       "      <td>Twitter</td>\n",
       "      <td>NaN</td>\n",
       "    </tr>\n",
       "  </tbody>\n",
       "</table>\n",
       "</div>"
      ],
      "text/plain": [
       "                       EMPLOYEE_MD5   JOB_TITLES COMPANY_NAME  \\\n",
       "0  aac4a9fe0edc50a77072eae64578a892          CEO      Twitter   \n",
       "1  f9c87bcba2ffe2237e039b2e2c86b16f   Co-Founder      Twitter   \n",
       "2  36830ffebad9a630da8a7a03a45f2730  Team Member      Twitter   \n",
       "\n",
       "                                    ATTENDED_SCHOOLS  \n",
       "0                                                NaN  \n",
       "1   Northeastern University University of Massach...  \n",
       "2                                                NaN  "
      ]
     },
     "execution_count": 6,
     "metadata": {},
     "output_type": "execute_result"
    }
   ],
   "source": [
    "employee_df.head(3)"
   ]
  },
  {
   "attachments": {},
   "cell_type": "markdown",
   "metadata": {},
   "source": [
    "## 1) How many companies have received at least one round of investment?"
   ]
  },
  {
   "cell_type": "code",
   "execution_count": 7,
   "metadata": {},
   "outputs": [
    {
     "data": {
      "text/plain": [
       "935"
      ]
     },
     "execution_count": 7,
     "metadata": {},
     "output_type": "execute_result"
    }
   ],
   "source": [
    "len(investment_df['COMPANY_NAME'].unique())"
   ]
  },
  {
   "attachments": {},
   "cell_type": "markdown",
   "metadata": {},
   "source": [
    "## 2) On average, how much money each company has received at Series A round?"
   ]
  },
  {
   "cell_type": "code",
   "execution_count": 8,
   "metadata": {},
   "outputs": [
    {
     "data": {
      "text/plain": [
       "array(['$', None, '€', '¥', '₹', '£', 'CA$', 'A$', 'CN¥', 'R$', 'ZAR',\n",
       "       'SGD', '₩', 'CHF', 'MYR', 'SEK', 'RUB'], dtype=object)"
      ]
     },
     "execution_count": 8,
     "metadata": {},
     "output_type": "execute_result"
    }
   ],
   "source": [
    "# First we need to convert to one-only currency (EUR)\n",
    "def get_currency(string):\n",
    "    res=None\n",
    "    if string!='—' : # If the string is not null \n",
    "        pattern = r'[^\\d,]+'\n",
    "        res=re.findall(pattern, string)[0]\n",
    "\n",
    "    return res\n",
    "\n",
    "investment_df['RAW_CURRENCY']=investment_df['MONEY_RAISED'].apply(get_currency)\n",
    "investment_df['RAW_CURRENCY'].unique()"
   ]
  },
  {
   "cell_type": "code",
   "execution_count": 9,
   "metadata": {},
   "outputs": [
    {
     "name": "stdout",
     "output_type": "stream",
     "text": [
      "['$', None, '€', '¥', '₹', '£', 'CA$', 'A$', 'CN¥', 'R$', '₩', 'RUB']\n"
     ]
    }
   ],
   "source": [
    "# in order to convert the currencies into one same currency, let's use this package that works like this : \n",
    "\n",
    "c = CurrencyConverter()\n",
    "c.convert(1, 'USD', 'EUR')\n",
    "\n",
    "# To know which currencies in the dataframe should be renamed to work with this module, let's test each one with it : \n",
    "list_currencies =investment_df['RAW_CURRENCY'].unique().tolist()\n",
    "mispelled_currencies =[]\n",
    "for curr in list_currencies:\n",
    "\n",
    "    try : \n",
    "        c.convert(1, 'USD', curr)\n",
    "    except:\n",
    "        mispelled_currencies.append(curr)\n",
    "\n",
    "print(mispelled_currencies)\n",
    "        "
   ]
  },
  {
   "cell_type": "code",
   "execution_count": 10,
   "metadata": {},
   "outputs": [
    {
     "data": {
      "text/html": [
       "<div>\n",
       "<style scoped>\n",
       "    .dataframe tbody tr th:only-of-type {\n",
       "        vertical-align: middle;\n",
       "    }\n",
       "\n",
       "    .dataframe tbody tr th {\n",
       "        vertical-align: top;\n",
       "    }\n",
       "\n",
       "    .dataframe thead th {\n",
       "        text-align: right;\n",
       "    }\n",
       "</style>\n",
       "<table border=\"1\" class=\"dataframe\">\n",
       "  <thead>\n",
       "    <tr style=\"text-align: right;\">\n",
       "      <th></th>\n",
       "      <th>COMPANY_NAME</th>\n",
       "      <th>FUNDING_TYPE</th>\n",
       "      <th>MONEY_RAISED</th>\n",
       "      <th>ANNOUNCED_DATE</th>\n",
       "      <th>INVESTMENT_STAGE</th>\n",
       "      <th>RAW_CURRENCY</th>\n",
       "    </tr>\n",
       "  </thead>\n",
       "  <tbody>\n",
       "    <tr>\n",
       "      <th>0</th>\n",
       "      <td>Pipe</td>\n",
       "      <td>Venture - Series Unknown</td>\n",
       "      <td>250000000</td>\n",
       "      <td>2021-03-31</td>\n",
       "      <td>—</td>\n",
       "      <td>USD</td>\n",
       "    </tr>\n",
       "    <tr>\n",
       "      <th>1</th>\n",
       "      <td>Pipe</td>\n",
       "      <td>Series A</td>\n",
       "      <td>50000000</td>\n",
       "      <td>2021-03-09</td>\n",
       "      <td>Early Stage Venture</td>\n",
       "      <td>USD</td>\n",
       "    </tr>\n",
       "    <tr>\n",
       "      <th>2</th>\n",
       "      <td>Pipe</td>\n",
       "      <td>Seed</td>\n",
       "      <td>6000000</td>\n",
       "      <td>2020-02-25</td>\n",
       "      <td>Seed</td>\n",
       "      <td>USD</td>\n",
       "    </tr>\n",
       "    <tr>\n",
       "      <th>3</th>\n",
       "      <td>Pipe</td>\n",
       "      <td>Seed</td>\n",
       "      <td>10000000</td>\n",
       "      <td>2020-06-24</td>\n",
       "      <td>Seed</td>\n",
       "      <td>USD</td>\n",
       "    </tr>\n",
       "    <tr>\n",
       "      <th>4</th>\n",
       "      <td>Epic Games</td>\n",
       "      <td>Seed</td>\n",
       "      <td>1000000000</td>\n",
       "      <td>2021-04-13</td>\n",
       "      <td>Seed</td>\n",
       "      <td>USD</td>\n",
       "    </tr>\n",
       "    <tr>\n",
       "      <th>...</th>\n",
       "      <td>...</td>\n",
       "      <td>...</td>\n",
       "      <td>...</td>\n",
       "      <td>...</td>\n",
       "      <td>...</td>\n",
       "      <td>...</td>\n",
       "    </tr>\n",
       "    <tr>\n",
       "      <th>5930</th>\n",
       "      <td>MDC Partners</td>\n",
       "      <td>Post-IPO Equity</td>\n",
       "      <td>95000000</td>\n",
       "      <td>2017-02-15</td>\n",
       "      <td>—</td>\n",
       "      <td>USD</td>\n",
       "    </tr>\n",
       "    <tr>\n",
       "      <th>5931</th>\n",
       "      <td>QueQ</td>\n",
       "      <td>Series A</td>\n",
       "      <td>2800000</td>\n",
       "      <td>2019-03-29</td>\n",
       "      <td>Early Stage Venture</td>\n",
       "      <td>USD</td>\n",
       "    </tr>\n",
       "    <tr>\n",
       "      <th>5932</th>\n",
       "      <td>PTC</td>\n",
       "      <td>Post-IPO Equity</td>\n",
       "      <td>1000000000</td>\n",
       "      <td>2018-06-11</td>\n",
       "      <td>—</td>\n",
       "      <td>USD</td>\n",
       "    </tr>\n",
       "    <tr>\n",
       "      <th>5933</th>\n",
       "      <td>Berkshire Hathaway</td>\n",
       "      <td>Post-IPO Equity</td>\n",
       "      <td>3510000</td>\n",
       "      <td>2019-08-15</td>\n",
       "      <td>—</td>\n",
       "      <td>USD</td>\n",
       "    </tr>\n",
       "    <tr>\n",
       "      <th>5936</th>\n",
       "      <td>Merck</td>\n",
       "      <td>Venture - Series Unknown</td>\n",
       "      <td>5000000</td>\n",
       "      <td>2016-01-21</td>\n",
       "      <td>—</td>\n",
       "      <td>USD</td>\n",
       "    </tr>\n",
       "  </tbody>\n",
       "</table>\n",
       "<p>4909 rows × 6 columns</p>\n",
       "</div>"
      ],
      "text/plain": [
       "            COMPANY_NAME              FUNDING_TYPE  MONEY_RAISED  \\\n",
       "0                   Pipe  Venture - Series Unknown     250000000   \n",
       "1                   Pipe                  Series A      50000000   \n",
       "2                   Pipe                      Seed       6000000   \n",
       "3                   Pipe                      Seed      10000000   \n",
       "4             Epic Games                      Seed    1000000000   \n",
       "...                  ...                       ...           ...   \n",
       "5930        MDC Partners           Post-IPO Equity      95000000   \n",
       "5931                QueQ                  Series A       2800000   \n",
       "5932                 PTC           Post-IPO Equity    1000000000   \n",
       "5933  Berkshire Hathaway           Post-IPO Equity       3510000   \n",
       "5936               Merck  Venture - Series Unknown       5000000   \n",
       "\n",
       "     ANNOUNCED_DATE     INVESTMENT_STAGE RAW_CURRENCY  \n",
       "0        2021-03-31                    —          USD  \n",
       "1        2021-03-09  Early Stage Venture          USD  \n",
       "2        2020-02-25                 Seed          USD  \n",
       "3        2020-06-24                 Seed          USD  \n",
       "4        2021-04-13                 Seed          USD  \n",
       "...             ...                  ...          ...  \n",
       "5930     2017-02-15                    —          USD  \n",
       "5931     2019-03-29  Early Stage Venture          USD  \n",
       "5932     2018-06-11                    —          USD  \n",
       "5933     2019-08-15                    —          USD  \n",
       "5936     2016-01-21                    —          USD  \n",
       "\n",
       "[4909 rows x 6 columns]"
      ]
     },
     "execution_count": 10,
     "metadata": {},
     "output_type": "execute_result"
    }
   ],
   "source": [
    "# lets remap the mispelled currencies : \n",
    "remap={'$':'USD','€':'EUR','¥':'JPY','₹':'INR','£':'GBP','CA$':'CAD','A$':'AUD','CN¥':'CNY','₩':\"KRW\",'R$':'BRL'}\n",
    "# we still miss RUB and R$ : for RUB (Russian Ruble) the package gives an error because we cannot convert it at the current datetime (war?) as we're gonna convert each transaction by precising the date the transaction was made, it not a problem\n",
    "# we replace the mispelled currencies\n",
    "investment_df.replace({\"RAW_CURRENCY\":remap},inplace=True)\n",
    "# We convert the annouced date to datetime :\n",
    "investment_df['ANNOUNCED_DATE']=pd.to_datetime(investment_df['ANNOUNCED_DATE'])\n",
    "# We  only digits from the amounts in order to convert it to int \n",
    "investment_df['MONEY_RAISED']=investment_df['MONEY_RAISED'].apply(lambda x : int(re.sub(r'[^0-9]', '', x))if x!='—'else 0)\n",
    "# We drop NA\n",
    "investment_df=investment_df[(investment_df['MONEY_RAISED']>0) & (investment_df['RAW_CURRENCY']!=None)]\n",
    "investment_df"
   ]
  },
  {
   "cell_type": "code",
   "execution_count": 11,
   "metadata": {},
   "outputs": [],
   "source": [
    "c = CurrencyConverter(fallback_on_wrong_date=True,fallback_on_missing_rate=True) # we activate the fallback on missing rate parameter which uses a linear interpolation when a currency is missed whitin the precised datetime\n",
    "# We convert each value in money raised in euros, precising in which date the investment was made to get the right currency rate \n",
    "investment_df['MONEY_RAISED_IN_EUR']=investment_df.apply(lambda x : int(c.convert(x['MONEY_RAISED'],x['RAW_CURRENCY'],'EUR',date =x['ANNOUNCED_DATE'])),axis=1)"
   ]
  },
  {
   "cell_type": "code",
   "execution_count": 12,
   "metadata": {},
   "outputs": [
    {
     "data": {
      "text/plain": [
       "COMPANY_NAME\n",
       "1mg                     5595449.0\n",
       "23andMe                 6307375.0\n",
       "360VUZ                  6531307.0\n",
       "ATAI Life Sciences     22081745.0\n",
       "AbCellera Biologics     8541898.0\n",
       "                          ...    \n",
       "ipsy                    2261629.0\n",
       "monday.com              6915377.0\n",
       "project44               9353287.0\n",
       "tabby                  18986296.0\n",
       "ultimate.ai            16459550.0\n",
       "Name: MONEY_RAISED_IN_EUR, Length: 535, dtype: float64"
      ]
     },
     "execution_count": 12,
     "metadata": {},
     "output_type": "execute_result"
    }
   ],
   "source": [
    "investment_df[investment_df['FUNDING_TYPE']=='Series A'].groupby('COMPANY_NAME')['MONEY_RAISED_IN_EUR'].mean()"
   ]
  },
  {
   "attachments": {},
   "cell_type": "markdown",
   "metadata": {},
   "source": [
    "## 3) What are the distributions of the current status of these companies?"
   ]
  },
  {
   "cell_type": "code",
   "execution_count": 13,
   "metadata": {},
   "outputs": [
    {
     "name": "stderr",
     "output_type": "stream",
     "text": [
      "<ipython-input-13-0f6c404011a2>:4: FutureWarning: Indexing with multiple keys (implicitly converted to a tuple of keys) will be deprecated, use a list instead.\n",
      "  current_status=investment_df[investment_df['INVESTMENT_STAGE']!='—'].sort_values('ANNOUNCED_DATE',ascending=False).groupby('COMPANY_NAME')['COMPANY_NAME','INVESTMENT_STAGE'].head(1)\n"
     ]
    },
    {
     "data": {
      "text/plain": [
       "Late Stage Venture     454\n",
       "Early Stage Venture    237\n",
       "Private Equity          61\n",
       "Seed                    57\n",
       "Name: INVESTMENT_STAGE, dtype: int64"
      ]
     },
     "execution_count": 13,
     "metadata": {},
     "output_type": "execute_result"
    }
   ],
   "source": [
    "#convert ANNOUCED DATE in datetime\n",
    "investment_df['ANNOUNCED_DATE']=pd.to_datetime(investment_df['ANNOUNCED_DATE'],errors='coerce')\n",
    "#get the current status of each company (sort values by announced date and keep the most recent one)\n",
    "current_status=investment_df[investment_df['INVESTMENT_STAGE']!='—'].sort_values('ANNOUNCED_DATE',ascending=False).groupby('COMPANY_NAME')['COMPANY_NAME','INVESTMENT_STAGE'].head(1)\n",
    "# value counts of the curren status to get the distribution\n",
    "current_status['INVESTMENT_STAGE'].value_counts()\n"
   ]
  },
  {
   "attachments": {},
   "cell_type": "markdown",
   "metadata": {},
   "source": [
    "## 4) Which company has the largest number of acquisitions?"
   ]
  },
  {
   "cell_type": "code",
   "execution_count": 14,
   "metadata": {},
   "outputs": [
    {
     "data": {
      "text/plain": [
       "COMPANY_NAME\n",
       "Accenture    212\n",
       "Name: ACQUIREE_NAME, dtype: int64"
      ]
     },
     "execution_count": 14,
     "metadata": {},
     "output_type": "execute_result"
    }
   ],
   "source": [
    "# Filtering to have only acquistions, groupby company name and count, sort values and get the first value\n",
    "acquisition_df[acquisition_df['ACQUISITION_TYPE']=='Acquisition'].groupby('COMPANY_NAME')['ACQUIREE_NAME'].count().sort_values(ascending=False).head(1)"
   ]
  },
  {
   "attachments": {},
   "cell_type": "markdown",
   "metadata": {},
   "source": [
    "## 5) Which of these companies have CEOs graduated from a top school?"
   ]
  },
  {
   "cell_type": "code",
   "execution_count": 15,
   "metadata": {},
   "outputs": [
    {
     "data": {
      "text/plain": [
       "107                   Google\n",
       "2470                  Stripe\n",
       "2608     Amazon Web Services\n",
       "3625                 Netflix\n",
       "4000               AngelList\n",
       "4163                    Etsy\n",
       "7158                  Ripple\n",
       "12850              Indiegogo\n",
       "14516              Metromile\n",
       "14860                   Cleo\n",
       "14902                Lattice\n",
       "15461             OutSystems\n",
       "15703           MercadoLibre\n",
       "15745                   Lark\n",
       "15883                 OneWeb\n",
       "15909               Amperity\n",
       "17338             Foursquare\n",
       "17363                Beeswax\n",
       "17504             Contentful\n",
       "17655                 Tanium\n",
       "18188                 Vonage\n",
       "18344              Inscripta\n",
       "18357            OpenLattice\n",
       "19021                  Rover\n",
       "20424                Corning\n",
       "Name: COMPANY_NAME, dtype: object"
      ]
     },
     "execution_count": 15,
     "metadata": {},
     "output_type": "execute_result"
    }
   ],
   "source": [
    "# Got a list of top schools and put in a regex format ( Harvard or MIT or Standford)\n",
    "top_schools=\"Harvard|MIT|Stanford|Berkeley|Oxford|Washington|Columbia|Cambridge|Yale|ESCP\"\n",
    "graduated_CEO=employee_df[employee_df['JOB_TITLES']=='CEO'].dropna(subset=[\"ATTENDED_SCHOOLS\"])\n",
    "# combined with the str.contains, this line test if each ATTENDS SCHOOLS contain Harvard, or MIT or Standford...\n",
    "graduated_CEO[graduated_CEO[\"ATTENDED_SCHOOLS\"].str.contains(top_schools,case=False,regex=True)]['COMPANY_NAME']\n"
   ]
  },
  {
   "cell_type": "code",
   "execution_count": 16,
   "metadata": {},
   "outputs": [
    {
     "data": {
      "text/html": [
       "<div>\n",
       "<style scoped>\n",
       "    .dataframe tbody tr th:only-of-type {\n",
       "        vertical-align: middle;\n",
       "    }\n",
       "\n",
       "    .dataframe tbody tr th {\n",
       "        vertical-align: top;\n",
       "    }\n",
       "\n",
       "    .dataframe thead th {\n",
       "        text-align: right;\n",
       "    }\n",
       "</style>\n",
       "<table border=\"1\" class=\"dataframe\">\n",
       "  <thead>\n",
       "    <tr style=\"text-align: right;\">\n",
       "      <th></th>\n",
       "      <th>EMPLOYEE_MD5</th>\n",
       "      <th>JOB_TITLES</th>\n",
       "      <th>COMPANY_NAME</th>\n",
       "      <th>ATTENDED_SCHOOLS</th>\n",
       "      <th>TOP_SCHOOL</th>\n",
       "    </tr>\n",
       "  </thead>\n",
       "  <tbody>\n",
       "    <tr>\n",
       "      <th>107</th>\n",
       "      <td>1695d67dedf7d6913b77025f96b43957</td>\n",
       "      <td>CEO</td>\n",
       "      <td>Google</td>\n",
       "      <td>Indian Institute of Technology Kharagpur Stan...</td>\n",
       "      <td>True</td>\n",
       "    </tr>\n",
       "    <tr>\n",
       "      <th>1879</th>\n",
       "      <td>5e78e4b5ec3d9b0690742153727f11f3</td>\n",
       "      <td>CEO</td>\n",
       "      <td>Apple</td>\n",
       "      <td>Duke University</td>\n",
       "      <td>False</td>\n",
       "    </tr>\n",
       "    <tr>\n",
       "      <th>2470</th>\n",
       "      <td>9345d3ea08ddf2688ee859ff8e630a14</td>\n",
       "      <td>CEO</td>\n",
       "      <td>Stripe</td>\n",
       "      <td>Massachusetts Institute of Technology - MIT</td>\n",
       "      <td>True</td>\n",
       "    </tr>\n",
       "    <tr>\n",
       "      <th>2608</th>\n",
       "      <td>adf442be572cadcd162976849cd0e4e9</td>\n",
       "      <td>CEO</td>\n",
       "      <td>Amazon Web Services</td>\n",
       "      <td>Harvard Business School Harvard University</td>\n",
       "      <td>True</td>\n",
       "    </tr>\n",
       "    <tr>\n",
       "      <th>3625</th>\n",
       "      <td>e6580847a7d4777abfb4e4ce17b5e2b1</td>\n",
       "      <td>CEO</td>\n",
       "      <td>Netflix</td>\n",
       "      <td>Bowdoin College Stanford University</td>\n",
       "      <td>True</td>\n",
       "    </tr>\n",
       "    <tr>\n",
       "      <th>...</th>\n",
       "      <td>...</td>\n",
       "      <td>...</td>\n",
       "      <td>...</td>\n",
       "      <td>...</td>\n",
       "      <td>...</td>\n",
       "    </tr>\n",
       "    <tr>\n",
       "      <th>20424</th>\n",
       "      <td>0126c5d5f6bc22b287b0dac867118da2</td>\n",
       "      <td>CEO</td>\n",
       "      <td>Corning</td>\n",
       "      <td>Harvard University Lehigh University</td>\n",
       "      <td>True</td>\n",
       "    </tr>\n",
       "    <tr>\n",
       "      <th>20451</th>\n",
       "      <td>f4230b5b27433167ab5d0261070d0a13</td>\n",
       "      <td>CEO</td>\n",
       "      <td>Plug Power</td>\n",
       "      <td>Temple University</td>\n",
       "      <td>False</td>\n",
       "    </tr>\n",
       "    <tr>\n",
       "      <th>20559</th>\n",
       "      <td>981ab6d5e43a0e0b873a26fae6144dc0</td>\n",
       "      <td>CEO</td>\n",
       "      <td>QueQ</td>\n",
       "      <td>King Mongkut's Institute of Technology Ladkra...</td>\n",
       "      <td>False</td>\n",
       "    </tr>\n",
       "    <tr>\n",
       "      <th>20560</th>\n",
       "      <td>8a04925d8044276c945aac347c708752</td>\n",
       "      <td>CEO</td>\n",
       "      <td>Exclaimer</td>\n",
       "      <td>University of Greenwich</td>\n",
       "      <td>False</td>\n",
       "    </tr>\n",
       "    <tr>\n",
       "      <th>20621</th>\n",
       "      <td>3882f25b6c66e090914c9be27659cb5c</td>\n",
       "      <td>CEO</td>\n",
       "      <td>ViaSat</td>\n",
       "      <td>Rice University</td>\n",
       "      <td>False</td>\n",
       "    </tr>\n",
       "  </tbody>\n",
       "</table>\n",
       "<p>69 rows × 5 columns</p>\n",
       "</div>"
      ],
      "text/plain": [
       "                           EMPLOYEE_MD5 JOB_TITLES         COMPANY_NAME  \\\n",
       "107    1695d67dedf7d6913b77025f96b43957        CEO               Google   \n",
       "1879   5e78e4b5ec3d9b0690742153727f11f3        CEO                Apple   \n",
       "2470   9345d3ea08ddf2688ee859ff8e630a14        CEO               Stripe   \n",
       "2608   adf442be572cadcd162976849cd0e4e9        CEO  Amazon Web Services   \n",
       "3625   e6580847a7d4777abfb4e4ce17b5e2b1        CEO              Netflix   \n",
       "...                                 ...        ...                  ...   \n",
       "20424  0126c5d5f6bc22b287b0dac867118da2        CEO              Corning   \n",
       "20451  f4230b5b27433167ab5d0261070d0a13        CEO           Plug Power   \n",
       "20559  981ab6d5e43a0e0b873a26fae6144dc0        CEO                 QueQ   \n",
       "20560  8a04925d8044276c945aac347c708752        CEO            Exclaimer   \n",
       "20621  3882f25b6c66e090914c9be27659cb5c        CEO               ViaSat   \n",
       "\n",
       "                                        ATTENDED_SCHOOLS  TOP_SCHOOL  \n",
       "107     Indian Institute of Technology Kharagpur Stan...        True  \n",
       "1879                                     Duke University       False  \n",
       "2470         Massachusetts Institute of Technology - MIT        True  \n",
       "2608          Harvard Business School Harvard University        True  \n",
       "3625                 Bowdoin College Stanford University        True  \n",
       "...                                                  ...         ...  \n",
       "20424               Harvard University Lehigh University        True  \n",
       "20451                                  Temple University       False  \n",
       "20559   King Mongkut's Institute of Technology Ladkra...       False  \n",
       "20560                            University of Greenwich       False  \n",
       "20621                                    Rice University       False  \n",
       "\n",
       "[69 rows x 5 columns]"
      ]
     },
     "execution_count": 16,
     "metadata": {},
     "output_type": "execute_result"
    }
   ],
   "source": [
    "graduated_CEO['TOP_SCHOOL']=graduated_CEO[\"ATTENDED_SCHOOLS\"].str.contains(top_schools,case=False,regex=True)\n",
    "graduated_CEO"
   ]
  },
  {
   "attachments": {},
   "cell_type": "markdown",
   "metadata": {},
   "source": [
    "##  6) Plot a map of the world, colored depending of the number of companies funded in it "
   ]
  },
  {
   "cell_type": "markdown",
   "metadata": {},
   "source": [
    "### 0) Pretreatment"
   ]
  },
  {
   "cell_type": "code",
   "execution_count": 17,
   "metadata": {},
   "outputs": [],
   "source": [
    "# adding a columns with only the name, using the column LOCATION. the country is the last element seperated by commas, and there is a blank space at the beggining that we must delete.\n",
    "company_df['COUNTRY']=company_df['LOCATION'].apply(lambda x : x.split(',')[-1][1:])"
   ]
  },
  {
   "cell_type": "markdown",
   "metadata": {},
   "source": [
    "#### 1) Loading geopandas, a DataFrame with informations about all the countries"
   ]
  },
  {
   "cell_type": "code",
   "execution_count": 18,
   "metadata": {},
   "outputs": [
    {
     "data": {
      "text/html": [
       "<div>\n",
       "<style scoped>\n",
       "    .dataframe tbody tr th:only-of-type {\n",
       "        vertical-align: middle;\n",
       "    }\n",
       "\n",
       "    .dataframe tbody tr th {\n",
       "        vertical-align: top;\n",
       "    }\n",
       "\n",
       "    .dataframe thead th {\n",
       "        text-align: right;\n",
       "    }\n",
       "</style>\n",
       "<table border=\"1\" class=\"dataframe\">\n",
       "  <thead>\n",
       "    <tr style=\"text-align: right;\">\n",
       "      <th></th>\n",
       "      <th>pop_est</th>\n",
       "      <th>continent</th>\n",
       "      <th>name</th>\n",
       "      <th>iso_a3</th>\n",
       "      <th>gdp_md_est</th>\n",
       "      <th>geometry</th>\n",
       "    </tr>\n",
       "  </thead>\n",
       "  <tbody>\n",
       "    <tr>\n",
       "      <th>0</th>\n",
       "      <td>889953.0</td>\n",
       "      <td>Oceania</td>\n",
       "      <td>Fiji</td>\n",
       "      <td>FJI</td>\n",
       "      <td>5496</td>\n",
       "      <td>MULTIPOLYGON (((180.00000 -16.06713, 180.00000...</td>\n",
       "    </tr>\n",
       "    <tr>\n",
       "      <th>1</th>\n",
       "      <td>58005463.0</td>\n",
       "      <td>Africa</td>\n",
       "      <td>Tanzania</td>\n",
       "      <td>TZA</td>\n",
       "      <td>63177</td>\n",
       "      <td>POLYGON ((33.90371 -0.95000, 34.07262 -1.05982...</td>\n",
       "    </tr>\n",
       "  </tbody>\n",
       "</table>\n",
       "</div>"
      ],
      "text/plain": [
       "      pop_est continent      name iso_a3  gdp_md_est  \\\n",
       "0    889953.0   Oceania      Fiji    FJI        5496   \n",
       "1  58005463.0    Africa  Tanzania    TZA       63177   \n",
       "\n",
       "                                            geometry  \n",
       "0  MULTIPOLYGON (((180.00000 -16.06713, 180.00000...  \n",
       "1  POLYGON ((33.90371 -0.95000, 34.07262 -1.05982...  "
      ]
     },
     "execution_count": 18,
     "metadata": {},
     "output_type": "execute_result"
    }
   ],
   "source": [
    "world = geopandas.read_file(geopandas.datasets.get_path('naturalearth_lowres'))\n",
    "world.head(2)"
   ]
  },
  {
   "cell_type": "markdown",
   "metadata": {},
   "source": [
    "#### 2) Counting the number of companies founded in each country, and merging with the geoDataframe based on the column 'COUNTRY'"
   ]
  },
  {
   "cell_type": "code",
   "execution_count": 19,
   "metadata": {},
   "outputs": [],
   "source": [
    "country_counts=pd.DataFrame(company_df['COUNTRY'].value_counts())\n",
    "table=world.merge(country_counts,right_index=True,left_on=['name'])"
   ]
  },
  {
   "cell_type": "markdown",
   "metadata": {},
   "source": [
    "#### 3) Looking at unmerged countries, correcting mispellings, and define unmatched countries "
   ]
  },
  {
   "cell_type": "code",
   "execution_count": 20,
   "metadata": {},
   "outputs": [
    {
     "name": "stdout",
     "output_type": "stream",
     "text": [
      "                    COUNTRY\n",
      "United States           660\n",
      "Singapore                 6\n",
      "The Netherlands           5\n",
      "Russian Federation        4\n",
      "Hong Kong                 3\n",
      "Cayman Islands            2\n",
      "Bahrain                   1\n",
      "Malta                     1\n"
     ]
    }
   ],
   "source": [
    "print(country_counts[~country_counts.index.isin(table['name'])])\n",
    "#Missing countries : Hong kong,Cayman Islands, Bahrain, Malta. I replaced singapore with Malaysia (not accurate but...) They are not present because they are small countries\n",
    "country_counts.rename(index={'United States':'United States of America','Singapore':'Malaysia','The Netherlands':'Netherlands','Russian Federation':'Russia'},inplace=True)\n"
   ]
  },
  {
   "cell_type": "markdown",
   "metadata": {},
   "source": [
    "#### 4 re-merge the geoDataframe and the counts of companies per country"
   ]
  },
  {
   "cell_type": "code",
   "execution_count": 21,
   "metadata": {},
   "outputs": [
    {
     "name": "stdout",
     "output_type": "stream",
     "text": [
      "                COUNTRY\n",
      "Hong Kong             3\n",
      "Cayman Islands        2\n",
      "Bahrain               1\n",
      "Malta                 1\n"
     ]
    }
   ],
   "source": [
    "table=world.merge(country_counts,right_index=True,left_on=['name'],how='left')\n",
    "print(country_counts[~country_counts.index.isin(table['name'])])"
   ]
  },
  {
   "cell_type": "markdown",
   "metadata": {},
   "source": [
    "#### 5) Creating a wolrd plot and saving it as html (map.html) please open it with a web browser "
   ]
  },
  {
   "cell_type": "code",
   "execution_count": 22,
   "metadata": {},
   "outputs": [
    {
     "data": {
      "image/png": "[encoded data removed]",
      "text/plain": [
       "<Figure size 1440x720 with 2 Axes>"
      ]
     },
     "metadata": {
      "needs_background": "light"
     },
     "output_type": "display_data"
    }
   ],
   "source": [
    "ax = table.boundary.plot(figsize=(20, 10))\n",
    "table.plot(ax=ax, column='COUNTRY', legend=True,cmap='RdBu_r',legend_kwds={'shrink':0.3, 'orientation': 'horizontal'})\n",
    "ax.get_xaxis().set_visible(False)\n",
    "ax.get_yaxis().set_visible(False)\n",
    "plt.show()"
   ]
  },
  {
   "attachments": {},
   "cell_type": "markdown",
   "metadata": {},
   "source": [
    "6) ### The map is pretty inacurate : since the USA has 660 + companies, it is an outlier. I decided to remove this country from the plot in order to be more lisible"
   ]
  },
  {
   "cell_type": "code",
   "execution_count": 23,
   "metadata": {},
   "outputs": [],
   "source": [
    "table.at[4,'COUNTRY']=0"
   ]
  },
  {
   "cell_type": "code",
   "execution_count": 24,
   "metadata": {},
   "outputs": [
    {
     "data": {
      "image/png": "[encoded data removed]",
      "text/plain": [
       "<Figure size 1440x720 with 2 Axes>"
      ]
     },
     "metadata": {
      "needs_background": "light"
     },
     "output_type": "display_data"
    }
   ],
   "source": [
    "ax = table.boundary.plot(figsize=(20, 10))\n",
    "table.plot(ax=ax, column='COUNTRY', legend=True,cmap='RdBu_r',legend_kwds={'shrink':0.3, 'orientation': 'horizontal'})\n",
    "ax.get_xaxis().set_visible(False)\n",
    "ax.get_yaxis().set_visible(False)\n",
    "plt.show()"
   ]
  },
  {
   "cell_type": "code",
   "execution_count": 25,
   "metadata": {},
   "outputs": [],
   "source": [
    "## Script to save the plot as an HTML file \n",
    "my_map = folium.Map()\n",
    "folium.Choropleth(\n",
    "    geo_data=table,\n",
    "    name='choropleth',\n",
    "    data=table,\n",
    "    columns=['name', 'COUNTRY'],\n",
    "    key_on='feature.properties.name',\n",
    "    fill_opacity=0.7,\n",
    "    line_opacity=0.2,\n",
    "    threshold_scale=np.linspace(table['COUNTRY'].min(), table['COUNTRY'].max(), 6),\n",
    "    legend_name='Number of Companies',\n",
    "    color_continuous_scale=\"Viridis\"\n",
    ").add_to(my_map)\n",
    "my_map.save('map.html')"
   ]
  },
  {
   "attachments": {},
   "cell_type": "markdown",
   "metadata": {},
   "source": [
    "### 7) From which countries does the top 50 companies with the most acquistion come from ? "
   ]
  },
  {
   "cell_type": "code",
   "execution_count": 26,
   "metadata": {},
   "outputs": [
    {
     "data": {
      "text/plain": [
       "Accenture                   212\n",
       "Cisco                       196\n",
       "Microsoft                   151\n",
       "IBM                         125\n",
       "Google                      114\n",
       "Apple                        81\n",
       "Oracle                       79\n",
       "NortonLifeLock               64\n",
       "Medtronic                    60\n",
       "Siemens                      53\n",
       "Intel                        53\n",
       "Keywords Studios             52\n",
       "Cognizant                    51\n",
       "EQT                          51\n",
       "SAP                          45\n",
       "Qualcomm                     43\n",
       "Merck                        43\n",
       "Boston Scientific            42\n",
       "Berkshire Hathaway           40\n",
       "Schneider Electric           40\n",
       "Apollo                       39\n",
       "Roche                        39\n",
       "Facebook                     36\n",
       "Nokia                        34\n",
       "RealPage                     33\n",
       "Ericsson                     32\n",
       "LabCorp                      31\n",
       "Pfizer                       30\n",
       "Alibaba Group                29\n",
       "Delivery Hero                28\n",
       "NCR                          28\n",
       "Twitter                      28\n",
       "Walmart                      26\n",
       "PTC                          26\n",
       "Orange                       25\n",
       "Wipro Technologies           23\n",
       "ServiceNow                   22\n",
       "FLIR Systems                 22\n",
       "Mastercard                   22\n",
       "Comcast                      22\n",
       "Snap                         22\n",
       "Sberbank                     22\n",
       "Ubisoft                      22\n",
       "Novartis                     21\n",
       "Investcorp                   20\n",
       "MDC Partners                 20\n",
       "NVIDIA                       19\n",
       "WELL Health Technologies     19\n",
       "Infor                        19\n",
       "Juniper Networks             18\n",
       "Name: COMPANY_NAME, dtype: int64"
      ]
     },
     "execution_count": 26,
     "metadata": {},
     "output_type": "execute_result"
    }
   ],
   "source": [
    "#Top 50 companies with the most Acqusition \n",
    "top_50_ac=acquisition_df[acquisition_df['ACQUISITION_TYPE']=='Acquisition']['COMPANY_NAME'].value_counts().head(50)\n",
    "top_50_ac\n"
   ]
  },
  {
   "cell_type": "code",
   "execution_count": 27,
   "metadata": {},
   "outputs": [
    {
     "data": {
      "text/plain": [
       "United States         32\n",
       "Germany                3\n",
       "France                 3\n",
       "Switzerland            2\n",
       "Sweden                 2\n",
       "Ireland                2\n",
       "Bahrain                1\n",
       "China                  1\n",
       "Russian Federation     1\n",
       "India                  1\n",
       "Finland                1\n",
       "Canada                 1\n",
       "Name: COUNTRY, dtype: int64"
      ]
     },
     "execution_count": 27,
     "metadata": {},
     "output_type": "execute_result"
    }
   ],
   "source": [
    "# Get the countries of the top 50 from the company df, and get the distribution of the countries (the columns COUNTRY, added in 6) 0) is required)\n",
    "company_df[company_df['COMPANY_NAME'].isin(top_50_ac.index)]['COUNTRY'].value_counts()"
   ]
  },
  {
   "attachments": {},
   "cell_type": "markdown",
   "metadata": {},
   "source": [
    "## 8) How many acquistion did the company with the most acquistions did per year ? (Accenture)"
   ]
  },
  {
   "cell_type": "code",
   "execution_count": 28,
   "metadata": {},
   "outputs": [
    {
     "data": {
      "text/plain": [
       "<AxesSubplot:title={'center':'Number of Acquisition per year for Accenture'}>"
      ]
     },
     "execution_count": 28,
     "metadata": {},
     "output_type": "execute_result"
    },
    {
     "data": {
      "image/png": "[encoded data removed]",
      "text/plain": [
       "<Figure size 432x288 with 1 Axes>"
      ]
     },
     "metadata": {
      "needs_background": "light"
     },
     "output_type": "display_data"
    }
   ],
   "source": [
    "# Plot of the number of acquistion per year for the company with the most acquistions : Accenture\n",
    "acquisition_df['ANNOUNCED_DATE']=pd.to_datetime(acquisition_df['ANNOUNCED_DATE'])\n",
    "acquisition_df['ANNOUNCED_YEAR']=acquisition_df['ANNOUNCED_DATE'].apply(lambda x : x.year)\n",
    "acquisition_df[acquisition_df['COMPANY_NAME']=='Accenture'].sort_values('ANNOUNCED_YEAR')['ANNOUNCED_YEAR'].value_counts(sort=False).plot(kind='barh',title='Number of Acquisition per year for Accenture')"
   ]
  },
  {
   "cell_type": "code",
   "execution_count": 29,
   "metadata": {},
   "outputs": [
    {
     "data": {
      "text/plain": [
       "<AxesSubplot:title={'center':'Number of Acquisition per year for Google'}>"
      ]
     },
     "execution_count": 29,
     "metadata": {},
     "output_type": "execute_result"
    },
    {
     "data": {
      "image/png": "[encoded data removed]",
      "text/plain": [
       "<Figure size 432x288 with 1 Axes>"
      ]
     },
     "metadata": {
      "needs_background": "light"
     },
     "output_type": "display_data"
    }
   ],
   "source": [
    "# Plot for other companies : \n",
    "company_name='Google'#try it with Google, Twitter\n",
    "acquisition_df[acquisition_df['COMPANY_NAME']==company_name].sort_values('ANNOUNCED_YEAR')['ANNOUNCED_YEAR'].value_counts(sort=False).plot(kind='barh',title='Number of Acquisition per year for '+company_name)"
   ]
  },
  {
   "attachments": {},
   "cell_type": "markdown",
   "metadata": {},
   "source": [
    "## 9) What are the most represented industry categories in the Company Dataset ? (in % of companies)"
   ]
  },
  {
   "cell_type": "code",
   "execution_count": 30,
   "metadata": {},
   "outputs": [
    {
     "data": {
      "text/plain": [
       "Software                                          30.9\n",
       "FinTech                                           15.1\n",
       "Financial Services                                15.0\n",
       "SaaS                                              14.9\n",
       "Information Technology                            14.5\n",
       "                                                  ... \n",
       "Precious Metals                                    0.1\n",
       "3D Printing                                        0.1\n",
       "Commercial Insurance                               0.1\n",
       "Social Entrepreneurship                            0.1\n",
       "Application Specific Integrated Circuit (ASIC)     0.1\n",
       "Length: 484, dtype: float64"
      ]
     },
     "execution_count": 30,
     "metadata": {},
     "output_type": "execute_result"
    }
   ],
   "source": [
    "# get a list of categories for each company \n",
    "categories=company_df['CATEGORY'].apply(lambda x : [cat.strip() for cat in x.split(',')]).to_list()\n",
    "# flatten the list \n",
    "categories_flatten =[item for sublist in categories for item in sublist]\n",
    "pd.Series(categories_flatten).value_counts()*100/len(company_df)\n",
    "# 30,9% of the companies in the company DF are Software companies."
   ]
  },
  {
   "attachments": {},
   "cell_type": "markdown",
   "metadata": {},
   "source": [
    "## 10) Which companies had the shortest / longest Life span ? ( number of days between the day it was founded and the day it was exited)"
   ]
  },
  {
   "cell_type": "code",
   "execution_count": 31,
   "metadata": {},
   "outputs": [
    {
     "name": "stderr",
     "output_type": "stream",
     "text": [
      "<ipython-input-31-a9b732033fb5>:7: SettingWithCopyWarning: \n",
      "A value is trying to be set on a copy of a slice from a DataFrame.\n",
      "Try using .loc[row_indexer,col_indexer] = value instead\n",
      "\n",
      "See the caveats in the documentation: https://pandas.pydata.org/pandas-docs/stable/user_guide/indexing.html#returning-a-view-versus-a-copy\n",
      "  exited_companies['LIFESPAN']=exited_companies.apply(lambda x: x['EXITED_ON']- x['FOUNDED_ON'],axis=1)\n"
     ]
    }
   ],
   "source": [
    "# converter FOUNDED_ON and EXITED_ON into datetime\n",
    "company_df['FOUNDED_ON']=pd.to_datetime(company_df['FOUNDED_ON'])\n",
    "company_df['EXITED_ON']=pd.to_datetime(company_df['EXITED_ON'],errors='coerce')\n",
    "# Create a sub df with only the exited companies\n",
    "exited_companies=company_df.dropna(subset=['EXITED_ON'])\n",
    "# Compute the lifespan (difference between EXITED and FOUNDED)\n",
    "exited_companies['LIFESPAN']=exited_companies.apply(lambda x: x['EXITED_ON']- x['FOUNDED_ON'],axis=1)\n",
    "# Companies with a negative lifespan must be error, let's delete them \n",
    "exited_companies=exited_companies[exited_companies['LIFESPAN']>datetime.timedelta(0)]\n"
   ]
  },
  {
   "cell_type": "code",
   "execution_count": 32,
   "metadata": {},
   "outputs": [
    {
     "data": {
      "text/html": [
       "<div>\n",
       "<style scoped>\n",
       "    .dataframe tbody tr th:only-of-type {\n",
       "        vertical-align: middle;\n",
       "    }\n",
       "\n",
       "    .dataframe tbody tr th {\n",
       "        vertical-align: top;\n",
       "    }\n",
       "\n",
       "    .dataframe thead th {\n",
       "        text-align: right;\n",
       "    }\n",
       "</style>\n",
       "<table border=\"1\" class=\"dataframe\">\n",
       "  <thead>\n",
       "    <tr style=\"text-align: right;\">\n",
       "      <th></th>\n",
       "      <th>COMPANY_NAME</th>\n",
       "      <th>LIFESPAN</th>\n",
       "    </tr>\n",
       "  </thead>\n",
       "  <tbody>\n",
       "    <tr>\n",
       "      <th>15</th>\n",
       "      <td>PhonePe</td>\n",
       "      <td>122 days</td>\n",
       "    </tr>\n",
       "    <tr>\n",
       "      <th>405</th>\n",
       "      <td>TerrAscend</td>\n",
       "      <td>123 days</td>\n",
       "    </tr>\n",
       "    <tr>\n",
       "      <th>458</th>\n",
       "      <td>Ideanomics</td>\n",
       "      <td>159 days</td>\n",
       "    </tr>\n",
       "    <tr>\n",
       "      <th>978</th>\n",
       "      <td>Xero</td>\n",
       "      <td>349 days</td>\n",
       "    </tr>\n",
       "    <tr>\n",
       "      <th>652</th>\n",
       "      <td>1mg</td>\n",
       "      <td>518 days</td>\n",
       "    </tr>\n",
       "    <tr>\n",
       "      <th>582</th>\n",
       "      <td>Instagram</td>\n",
       "      <td>551 days</td>\n",
       "    </tr>\n",
       "    <tr>\n",
       "      <th>60</th>\n",
       "      <td>Oculus</td>\n",
       "      <td>627 days</td>\n",
       "    </tr>\n",
       "    <tr>\n",
       "      <th>644</th>\n",
       "      <td>Lordstown Motors</td>\n",
       "      <td>664 days</td>\n",
       "    </tr>\n",
       "    <tr>\n",
       "      <th>11</th>\n",
       "      <td>Reddit</td>\n",
       "      <td>668 days</td>\n",
       "    </tr>\n",
       "    <tr>\n",
       "      <th>959</th>\n",
       "      <td>Clover</td>\n",
       "      <td>792 days</td>\n",
       "    </tr>\n",
       "  </tbody>\n",
       "</table>\n",
       "</div>"
      ],
      "text/plain": [
       "         COMPANY_NAME LIFESPAN\n",
       "15            PhonePe 122 days\n",
       "405        TerrAscend 123 days\n",
       "458        Ideanomics 159 days\n",
       "978              Xero 349 days\n",
       "652               1mg 518 days\n",
       "582         Instagram 551 days\n",
       "60             Oculus 627 days\n",
       "644  Lordstown Motors 664 days\n",
       "11             Reddit 668 days\n",
       "959            Clover 792 days"
      ]
     },
     "execution_count": 32,
     "metadata": {},
     "output_type": "execute_result"
    }
   ],
   "source": [
    "# Shortest Lifespan\n",
    "exited_companies.sort_values(by='LIFESPAN')[['COMPANY_NAME','LIFESPAN']].head(10)"
   ]
  },
  {
   "cell_type": "code",
   "execution_count": 33,
   "metadata": {},
   "outputs": [
    {
     "data": {
      "text/html": [
       "<div>\n",
       "<style scoped>\n",
       "    .dataframe tbody tr th:only-of-type {\n",
       "        vertical-align: middle;\n",
       "    }\n",
       "\n",
       "    .dataframe tbody tr th {\n",
       "        vertical-align: top;\n",
       "    }\n",
       "\n",
       "    .dataframe thead th {\n",
       "        text-align: right;\n",
       "    }\n",
       "</style>\n",
       "<table border=\"1\" class=\"dataframe\">\n",
       "  <thead>\n",
       "    <tr style=\"text-align: right;\">\n",
       "      <th></th>\n",
       "      <th>COMPANY_NAME</th>\n",
       "      <th>LIFESPAN</th>\n",
       "    </tr>\n",
       "  </thead>\n",
       "  <tbody>\n",
       "    <tr>\n",
       "      <th>337</th>\n",
       "      <td>Sberbank</td>\n",
       "      <td>59276 days</td>\n",
       "    </tr>\n",
       "    <tr>\n",
       "      <th>811</th>\n",
       "      <td>Berkshire Hathaway</td>\n",
       "      <td>57473 days</td>\n",
       "    </tr>\n",
       "    <tr>\n",
       "      <th>106</th>\n",
       "      <td>Siemens</td>\n",
       "      <td>56329 days</td>\n",
       "    </tr>\n",
       "    <tr>\n",
       "      <th>520</th>\n",
       "      <td>Bayer</td>\n",
       "      <td>53388 days</td>\n",
       "    </tr>\n",
       "    <tr>\n",
       "      <th>507</th>\n",
       "      <td>Nokia</td>\n",
       "      <td>50918 days</td>\n",
       "    </tr>\n",
       "    <tr>\n",
       "      <th>34</th>\n",
       "      <td>Goldman Sachs</td>\n",
       "      <td>47614 days</td>\n",
       "    </tr>\n",
       "    <tr>\n",
       "      <th>830</th>\n",
       "      <td>Pfizer</td>\n",
       "      <td>47128 days</td>\n",
       "    </tr>\n",
       "    <tr>\n",
       "      <th>622</th>\n",
       "      <td>Corning</td>\n",
       "      <td>46398 days</td>\n",
       "    </tr>\n",
       "    <tr>\n",
       "      <th>876</th>\n",
       "      <td>NCR</td>\n",
       "      <td>41261 days</td>\n",
       "    </tr>\n",
       "    <tr>\n",
       "      <th>341</th>\n",
       "      <td>Allianz</td>\n",
       "      <td>40917 days</td>\n",
       "    </tr>\n",
       "  </tbody>\n",
       "</table>\n",
       "</div>"
      ],
      "text/plain": [
       "           COMPANY_NAME   LIFESPAN\n",
       "337            Sberbank 59276 days\n",
       "811  Berkshire Hathaway 57473 days\n",
       "106             Siemens 56329 days\n",
       "520               Bayer 53388 days\n",
       "507               Nokia 50918 days\n",
       "34        Goldman Sachs 47614 days\n",
       "830              Pfizer 47128 days\n",
       "622             Corning 46398 days\n",
       "876                 NCR 41261 days\n",
       "341             Allianz 40917 days"
      ]
     },
     "execution_count": 33,
     "metadata": {},
     "output_type": "execute_result"
    }
   ],
   "source": [
    "# Longest Lifespan\n",
    "exited_companies.sort_values(by='LIFESPAN',ascending=False)[['COMPANY_NAME','LIFESPAN']].head(10)\n"
   ]
  },
  {
   "attachments": {},
   "cell_type": "markdown",
   "metadata": {},
   "source": [
    "## 11) What's the most expensive acquisition ? "
   ]
  },
  {
   "cell_type": "code",
   "execution_count": 34,
   "metadata": {},
   "outputs": [],
   "source": [
    "# let's do the same treatment as with the investments\n",
    "\n",
    "acquisition_df['RAW_CURRENCY']=acquisition_df['PRICE'].apply(get_currency)\n",
    "acquisition_df['RAW_CURRENCY'].unique()\n",
    "# lets remap the mispelled currencies : \n",
    "remap={'$':'USD','€':'EUR','¥':'JPY','₹':'INR','£':'GBP','CA$':'CAD','A$':'AUD','CN¥':'CNY','₩':\"KRW\",'R$':'BRL'}\n",
    "# we still miss RUB  : for RUB (Russian Ruble) the package gives an error because we cannot convert it at the current datetime (war?) as we're gonna convert each transaction by precising the date the transaction was made, it not a problem\n",
    "# we replace the mispelled currencies\n",
    "acquisition_df.replace({\"RAW_CURRENCY\":remap},inplace=True)\n",
    "# We convert the annouced date to datetime :\n",
    "acquisition_df['ANNOUNCED_DATE']=pd.to_datetime(acquisition_df['ANNOUNCED_DATE'])\n",
    "# We  only digits from the amounts in order to convert it to int \n",
    "acquisition_df['PRICE']=acquisition_df['PRICE'].apply(lambda x : int(re.sub(r'[^0-9]', '', x))if x!='—'else 0)\n",
    "# We drop NA\n",
    "acquisition_df=acquisition_df[(acquisition_df['PRICE']>0) & (acquisition_df['RAW_CURRENCY']!=None)]\n",
    "c = CurrencyConverter(fallback_on_wrong_date=True,fallback_on_missing_rate=True) # we activate the fallback on missing rate parameter which uses a linear interpolation when a currency is missed whitin the precised datetime\n",
    "# We convert each value in money raised in euros, precising in which date the acquisition was made to get the right currency rate \n",
    "acquisition_df['PRICE_IN_EUR']=acquisition_df.apply(lambda x : int(c.convert(x['PRICE'],x['RAW_CURRENCY'],'EUR',date =x['ANNOUNCED_DATE'])),axis=1)\n"
   ]
  },
  {
   "cell_type": "code",
   "execution_count": 35,
   "metadata": {},
   "outputs": [
    {
     "data": {
      "text/html": [
       "<div>\n",
       "<style scoped>\n",
       "    .dataframe tbody tr th:only-of-type {\n",
       "        vertical-align: middle;\n",
       "    }\n",
       "\n",
       "    .dataframe tbody tr th {\n",
       "        vertical-align: top;\n",
       "    }\n",
       "\n",
       "    .dataframe thead th {\n",
       "        text-align: right;\n",
       "    }\n",
       "</style>\n",
       "<table border=\"1\" class=\"dataframe\">\n",
       "  <thead>\n",
       "    <tr style=\"text-align: right;\">\n",
       "      <th></th>\n",
       "      <th>COMPANY_NAME</th>\n",
       "      <th>ACQUIREE_NAME</th>\n",
       "      <th>ANNOUNCED_DATE</th>\n",
       "      <th>PRICE</th>\n",
       "      <th>ACQUISITION_TYPE</th>\n",
       "      <th>ANNOUNCED_YEAR</th>\n",
       "      <th>RAW_CURRENCY</th>\n",
       "      <th>PRICE_IN_EUR</th>\n",
       "    </tr>\n",
       "  </thead>\n",
       "  <tbody>\n",
       "    <tr>\n",
       "      <th>0</th>\n",
       "      <td>IBM</td>\n",
       "      <td>Turbonomic</td>\n",
       "      <td>2021-04-29</td>\n",
       "      <td>2000000000</td>\n",
       "      <td>Acquisition</td>\n",
       "      <td>2021</td>\n",
       "      <td>USD</td>\n",
       "      <td>1648940555</td>\n",
       "    </tr>\n",
       "    <tr>\n",
       "      <th>10</th>\n",
       "      <td>IBM</td>\n",
       "      <td>CommQuest Services</td>\n",
       "      <td>1998-04-30</td>\n",
       "      <td>200000000</td>\n",
       "      <td>Acquisition</td>\n",
       "      <td>1998</td>\n",
       "      <td>USD</td>\n",
       "      <td>169649673</td>\n",
       "    </tr>\n",
       "    <tr>\n",
       "      <th>13</th>\n",
       "      <td>IBM</td>\n",
       "      <td>Micromuse</td>\n",
       "      <td>2005-12-21</td>\n",
       "      <td>865000000</td>\n",
       "      <td>Acquisition</td>\n",
       "      <td>2005</td>\n",
       "      <td>USD</td>\n",
       "      <td>728605121</td>\n",
       "    </tr>\n",
       "    <tr>\n",
       "      <th>19</th>\n",
       "      <td>IBM</td>\n",
       "      <td>Netezza</td>\n",
       "      <td>2010-09-20</td>\n",
       "      <td>1800000000</td>\n",
       "      <td>Acquisition</td>\n",
       "      <td>2010</td>\n",
       "      <td>USD</td>\n",
       "      <td>1376778338</td>\n",
       "    </tr>\n",
       "    <tr>\n",
       "      <th>36</th>\n",
       "      <td>IBM</td>\n",
       "      <td>Tivoli Systems</td>\n",
       "      <td>1996-02-01</td>\n",
       "      <td>743000000</td>\n",
       "      <td>Acquisition</td>\n",
       "      <td>1996</td>\n",
       "      <td>USD</td>\n",
       "      <td>630248536</td>\n",
       "    </tr>\n",
       "    <tr>\n",
       "      <th>...</th>\n",
       "      <td>...</td>\n",
       "      <td>...</td>\n",
       "      <td>...</td>\n",
       "      <td>...</td>\n",
       "      <td>...</td>\n",
       "      <td>...</td>\n",
       "      <td>...</td>\n",
       "      <td>...</td>\n",
       "    </tr>\n",
       "    <tr>\n",
       "      <th>5254</th>\n",
       "      <td>Pandora</td>\n",
       "      <td>Ticketfly</td>\n",
       "      <td>2015-10-06</td>\n",
       "      <td>450000000</td>\n",
       "      <td>Acquisition</td>\n",
       "      <td>2015</td>\n",
       "      <td>USD</td>\n",
       "      <td>400926585</td>\n",
       "    </tr>\n",
       "    <tr>\n",
       "      <th>5255</th>\n",
       "      <td>Pandora</td>\n",
       "      <td>AdsWizz</td>\n",
       "      <td>2018-03-22</td>\n",
       "      <td>145000000</td>\n",
       "      <td>Acquisition</td>\n",
       "      <td>2018</td>\n",
       "      <td>USD</td>\n",
       "      <td>117733030</td>\n",
       "    </tr>\n",
       "    <tr>\n",
       "      <th>5256</th>\n",
       "      <td>Axis Bank</td>\n",
       "      <td>FreeCharge</td>\n",
       "      <td>2017-07-27</td>\n",
       "      <td>60040000</td>\n",
       "      <td>Acquisition</td>\n",
       "      <td>2017</td>\n",
       "      <td>USD</td>\n",
       "      <td>51342568</td>\n",
       "    </tr>\n",
       "    <tr>\n",
       "      <th>5257</th>\n",
       "      <td>Sonos</td>\n",
       "      <td>Snips</td>\n",
       "      <td>2019-11-20</td>\n",
       "      <td>37500000</td>\n",
       "      <td>Acquisition</td>\n",
       "      <td>2019</td>\n",
       "      <td>USD</td>\n",
       "      <td>33909033</td>\n",
       "    </tr>\n",
       "    <tr>\n",
       "      <th>5276</th>\n",
       "      <td>Reliance Jio</td>\n",
       "      <td>Haptik</td>\n",
       "      <td>2019-03-29</td>\n",
       "      <td>100000000</td>\n",
       "      <td>Acquisition</td>\n",
       "      <td>2019</td>\n",
       "      <td>USD</td>\n",
       "      <td>89007565</td>\n",
       "    </tr>\n",
       "  </tbody>\n",
       "</table>\n",
       "<p>1340 rows × 8 columns</p>\n",
       "</div>"
      ],
      "text/plain": [
       "      COMPANY_NAME       ACQUIREE_NAME ANNOUNCED_DATE       PRICE  \\\n",
       "0              IBM          Turbonomic     2021-04-29  2000000000   \n",
       "10             IBM  CommQuest Services     1998-04-30   200000000   \n",
       "13             IBM           Micromuse     2005-12-21   865000000   \n",
       "19             IBM             Netezza     2010-09-20  1800000000   \n",
       "36             IBM      Tivoli Systems     1996-02-01   743000000   \n",
       "...            ...                 ...            ...         ...   \n",
       "5254       Pandora           Ticketfly     2015-10-06   450000000   \n",
       "5255       Pandora             AdsWizz     2018-03-22   145000000   \n",
       "5256     Axis Bank          FreeCharge     2017-07-27    60040000   \n",
       "5257         Sonos               Snips     2019-11-20    37500000   \n",
       "5276  Reliance Jio              Haptik     2019-03-29   100000000   \n",
       "\n",
       "     ACQUISITION_TYPE  ANNOUNCED_YEAR RAW_CURRENCY  PRICE_IN_EUR  \n",
       "0         Acquisition            2021          USD    1648940555  \n",
       "10        Acquisition            1998          USD     169649673  \n",
       "13        Acquisition            2005          USD     728605121  \n",
       "19        Acquisition            2010          USD    1376778338  \n",
       "36        Acquisition            1996          USD     630248536  \n",
       "...               ...             ...          ...           ...  \n",
       "5254      Acquisition            2015          USD     400926585  \n",
       "5255      Acquisition            2018          USD     117733030  \n",
       "5256      Acquisition            2017          USD      51342568  \n",
       "5257      Acquisition            2019          USD      33909033  \n",
       "5276      Acquisition            2019          USD      89007565  \n",
       "\n",
       "[1340 rows x 8 columns]"
      ]
     },
     "execution_count": 35,
     "metadata": {},
     "output_type": "execute_result"
    }
   ],
   "source": [
    "acquisition_df"
   ]
  },
  {
   "cell_type": "code",
   "execution_count": 36,
   "metadata": {},
   "outputs": [
    {
     "data": {
      "text/html": [
       "<div>\n",
       "<style scoped>\n",
       "    .dataframe tbody tr th:only-of-type {\n",
       "        vertical-align: middle;\n",
       "    }\n",
       "\n",
       "    .dataframe tbody tr th {\n",
       "        vertical-align: top;\n",
       "    }\n",
       "\n",
       "    .dataframe thead th {\n",
       "        text-align: right;\n",
       "    }\n",
       "</style>\n",
       "<table border=\"1\" class=\"dataframe\">\n",
       "  <thead>\n",
       "    <tr style=\"text-align: right;\">\n",
       "      <th></th>\n",
       "      <th>COMPANY_NAME</th>\n",
       "      <th>ACQUIREE_NAME</th>\n",
       "      <th>ANNOUNCED_DATE</th>\n",
       "      <th>PRICE</th>\n",
       "      <th>ACQUISITION_TYPE</th>\n",
       "      <th>ANNOUNCED_YEAR</th>\n",
       "      <th>RAW_CURRENCY</th>\n",
       "      <th>PRICE_IN_EUR</th>\n",
       "    </tr>\n",
       "  </thead>\n",
       "  <tbody>\n",
       "    <tr>\n",
       "      <th>1450</th>\n",
       "      <td>Pfizer</td>\n",
       "      <td>Warner-Lambert</td>\n",
       "      <td>2000-02-07</td>\n",
       "      <td>90000000000</td>\n",
       "      <td>Acquisition</td>\n",
       "      <td>2000</td>\n",
       "      <td>USD</td>\n",
       "      <td>92147025698</td>\n",
       "    </tr>\n",
       "    <tr>\n",
       "      <th>3701</th>\n",
       "      <td>The Walt Disney Company</td>\n",
       "      <td>21st Century Fox</td>\n",
       "      <td>2017-12-14</td>\n",
       "      <td>71300000000</td>\n",
       "      <td>Acquisition</td>\n",
       "      <td>2017</td>\n",
       "      <td>USD</td>\n",
       "      <td>60194174757</td>\n",
       "    </tr>\n",
       "    <tr>\n",
       "      <th>1464</th>\n",
       "      <td>Pfizer</td>\n",
       "      <td>Wyeth Nutritionals</td>\n",
       "      <td>2009-01-23</td>\n",
       "      <td>68000000000</td>\n",
       "      <td>Acquisition</td>\n",
       "      <td>2009</td>\n",
       "      <td>USD</td>\n",
       "      <td>53145760062</td>\n",
       "    </tr>\n",
       "    <tr>\n",
       "      <th>4855</th>\n",
       "      <td>Charter Communications</td>\n",
       "      <td>Spectrum</td>\n",
       "      <td>2015-05-26</td>\n",
       "      <td>56000000000</td>\n",
       "      <td>Acquisition</td>\n",
       "      <td>2015</td>\n",
       "      <td>USD</td>\n",
       "      <td>51253889804</td>\n",
       "    </tr>\n",
       "    <tr>\n",
       "      <th>4302</th>\n",
       "      <td>NVIDIA</td>\n",
       "      <td>Arm Holdings</td>\n",
       "      <td>2020-09-13</td>\n",
       "      <td>40000000000</td>\n",
       "      <td>Acquisition</td>\n",
       "      <td>2020</td>\n",
       "      <td>USD</td>\n",
       "      <td>33702185024</td>\n",
       "    </tr>\n",
       "    <tr>\n",
       "      <th>...</th>\n",
       "      <td>...</td>\n",
       "      <td>...</td>\n",
       "      <td>...</td>\n",
       "      <td>...</td>\n",
       "      <td>...</td>\n",
       "      <td>...</td>\n",
       "      <td>...</td>\n",
       "      <td>...</td>\n",
       "    </tr>\n",
       "    <tr>\n",
       "      <th>3525</th>\n",
       "      <td>Animoca Brands</td>\n",
       "      <td>Tribeflame</td>\n",
       "      <td>2018-02-07</td>\n",
       "      <td>433000</td>\n",
       "      <td>Acquisition</td>\n",
       "      <td>2018</td>\n",
       "      <td>USD</td>\n",
       "      <td>350948</td>\n",
       "    </tr>\n",
       "    <tr>\n",
       "      <th>1585</th>\n",
       "      <td>Keywords Studios</td>\n",
       "      <td>Syllabes</td>\n",
       "      <td>2019-12-17</td>\n",
       "      <td>475000</td>\n",
       "      <td>Acquisition</td>\n",
       "      <td>2019</td>\n",
       "      <td>CAD</td>\n",
       "      <td>323349</td>\n",
       "    </tr>\n",
       "    <tr>\n",
       "      <th>3519</th>\n",
       "      <td>Animoca Brands</td>\n",
       "      <td>Gamma Now</td>\n",
       "      <td>2019-06-27</td>\n",
       "      <td>350000</td>\n",
       "      <td>Acquisition</td>\n",
       "      <td>2019</td>\n",
       "      <td>USD</td>\n",
       "      <td>307827</td>\n",
       "    </tr>\n",
       "    <tr>\n",
       "      <th>1847</th>\n",
       "      <td>Sberbank</td>\n",
       "      <td>Rambler</td>\n",
       "      <td>2019-08-26</td>\n",
       "      <td>11000000</td>\n",
       "      <td>Acquisition</td>\n",
       "      <td>2019</td>\n",
       "      <td>RUB</td>\n",
       "      <td>150105</td>\n",
       "    </tr>\n",
       "    <tr>\n",
       "      <th>5232</th>\n",
       "      <td>Cloud Native Computing Foundation (CNCF)</td>\n",
       "      <td>RethinkDB</td>\n",
       "      <td>2017-02-06</td>\n",
       "      <td>25000</td>\n",
       "      <td>Acquisition</td>\n",
       "      <td>2017</td>\n",
       "      <td>USD</td>\n",
       "      <td>23338</td>\n",
       "    </tr>\n",
       "  </tbody>\n",
       "</table>\n",
       "<p>1148 rows × 8 columns</p>\n",
       "</div>"
      ],
      "text/plain": [
       "                                  COMPANY_NAME       ACQUIREE_NAME  \\\n",
       "1450                                    Pfizer      Warner-Lambert   \n",
       "3701                   The Walt Disney Company    21st Century Fox   \n",
       "1464                                    Pfizer  Wyeth Nutritionals   \n",
       "4855                    Charter Communications            Spectrum   \n",
       "4302                                    NVIDIA        Arm Holdings   \n",
       "...                                        ...                 ...   \n",
       "3525                            Animoca Brands          Tribeflame   \n",
       "1585                          Keywords Studios            Syllabes   \n",
       "3519                            Animoca Brands           Gamma Now   \n",
       "1847                                  Sberbank             Rambler   \n",
       "5232  Cloud Native Computing Foundation (CNCF)           RethinkDB   \n",
       "\n",
       "     ANNOUNCED_DATE        PRICE ACQUISITION_TYPE  ANNOUNCED_YEAR  \\\n",
       "1450     2000-02-07  90000000000      Acquisition            2000   \n",
       "3701     2017-12-14  71300000000      Acquisition            2017   \n",
       "1464     2009-01-23  68000000000      Acquisition            2009   \n",
       "4855     2015-05-26  56000000000      Acquisition            2015   \n",
       "4302     2020-09-13  40000000000      Acquisition            2020   \n",
       "...             ...          ...              ...             ...   \n",
       "3525     2018-02-07       433000      Acquisition            2018   \n",
       "1585     2019-12-17       475000      Acquisition            2019   \n",
       "3519     2019-06-27       350000      Acquisition            2019   \n",
       "1847     2019-08-26     11000000      Acquisition            2019   \n",
       "5232     2017-02-06        25000      Acquisition            2017   \n",
       "\n",
       "     RAW_CURRENCY  PRICE_IN_EUR  \n",
       "1450          USD   92147025698  \n",
       "3701          USD   60194174757  \n",
       "1464          USD   53145760062  \n",
       "4855          USD   51253889804  \n",
       "4302          USD   33702185024  \n",
       "...           ...           ...  \n",
       "3525          USD        350948  \n",
       "1585          CAD        323349  \n",
       "3519          USD        307827  \n",
       "1847          RUB        150105  \n",
       "5232          USD         23338  \n",
       "\n",
       "[1148 rows x 8 columns]"
      ]
     },
     "execution_count": 36,
     "metadata": {},
     "output_type": "execute_result"
    }
   ],
   "source": [
    "#List of acquisition from the most expensive to the least\n",
    "sorted_deals= acquisition_df[(acquisition_df['ACQUISITION_TYPE']=='Acquisition') & (acquisition_df['PRICE']>0) ].dropna(subset=['PRICE']).sort_values(by='PRICE_IN_EUR',ascending=False)\n",
    "sorted_deals\n"
   ]
  },
  {
   "cell_type": "code",
   "execution_count": 37,
   "metadata": {},
   "outputs": [
    {
     "name": "stdout",
     "output_type": "stream",
     "text": [
      "Pfizer has bought Warner-Lambert for 90,000,000,000 USD (€92,147,025,698) on 2000\n"
     ]
    }
   ],
   "source": [
    "deal_no=0 # try with 0,1,2,3 ...\n",
    "\n",
    "phrased=\"{0} has bought {1} for {2:,} {3} (€{4:,}) on {5}\".format(sorted_deals.iloc[deal_no]['COMPANY_NAME'],sorted_deals.iloc[deal_no]['ACQUIREE_NAME'],sorted_deals.iloc[deal_no]['PRICE'],sorted_deals.iloc[deal_no]['RAW_CURRENCY'], sorted_deals.iloc[deal_no]['PRICE_IN_EUR'], sorted_deals.iloc[deal_no]['ANNOUNCED_DATE'].year)\n",
    "print(phrased)"
   ]
  },
  {
   "attachments": {},
   "cell_type": "markdown",
   "metadata": {},
   "source": [
    "## 12) What's the repartition of top schools whithin any specified company ? "
   ]
  },
  {
   "cell_type": "code",
   "execution_count": 38,
   "metadata": {},
   "outputs": [
    {
     "name": "stderr",
     "output_type": "stream",
     "text": [
      "<ipython-input-38-d1fab4cfb4aa>:15: SettingWithCopyWarning: \n",
      "A value is trying to be set on a copy of a slice from a DataFrame.\n",
      "Try using .loc[row_indexer,col_indexer] = value instead\n",
      "\n",
      "See the caveats in the documentation: https://pandas.pydata.org/pandas-docs/stable/user_guide/indexing.html#returning-a-view-versus-a-copy\n",
      "  company['TOP_SCHOOL']=company['ATTENDED_SCHOOLS'].apply(find_pattern)\n"
     ]
    },
    {
     "data": {
      "image/png": "[encoded data removed]",
      "text/plain": [
       "<Figure size 432x288 with 1 Axes>"
      ]
     },
     "metadata": {},
     "output_type": "display_data"
    },
    {
     "name": "stdout",
     "output_type": "stream",
     "text": [
      "At Google, 129 out of the 1598 recorded employees graduated from a top school (8.07%)\n"
     ]
    }
   ],
   "source": [
    "company_name= 'Google' # try with 'Pfizer', 'Twitter', 'Facebook'\n",
    "\n",
    "def find_pattern(string):\n",
    "    res =None\n",
    "    top_schools=r\"Harvard|MIT|Stanford|Berkeley|Oxford|Washington|Columbia|Cambridge|Yale|ESCP\"\n",
    "    if not pd.isna(string) :\n",
    "        match = re.search(top_schools, string)\n",
    "        if match:\n",
    "            res=match.group(0)\n",
    "        \n",
    "    return res\n",
    "\n",
    "\n",
    "company=employee_df[employee_df['COMPANY_NAME']==company_name]\n",
    "company['TOP_SCHOOL']=company['ATTENDED_SCHOOLS'].apply(find_pattern)\n",
    "per_from_top_school=company['TOP_SCHOOL'].count()*100/len(company['TOP_SCHOOL'])\n",
    "phraser=\"At {0}, {1} out of the {2} recorded employees graduated from a top school ({3:.2f}%)\".format(company_name,company['TOP_SCHOOL'].count(),len(company['TOP_SCHOOL']),per_from_top_school)\n",
    "\n",
    "company['TOP_SCHOOL'].value_counts().plot(kind='pie')\n",
    "plt.show()\n",
    "print(phraser)"
   ]
  },
  {
   "attachments": {},
   "cell_type": "markdown",
   "metadata": {},
   "source": [
    "## 13) What are the Alumnis of a specific school in the dataset ? "
   ]
  },
  {
   "cell_type": "code",
   "execution_count": 39,
   "metadata": {},
   "outputs": [
    {
     "data": {
      "text/html": [
       "<div>\n",
       "<style scoped>\n",
       "    .dataframe tbody tr th:only-of-type {\n",
       "        vertical-align: middle;\n",
       "    }\n",
       "\n",
       "    .dataframe tbody tr th {\n",
       "        vertical-align: top;\n",
       "    }\n",
       "\n",
       "    .dataframe thead th {\n",
       "        text-align: right;\n",
       "    }\n",
       "</style>\n",
       "<table border=\"1\" class=\"dataframe\">\n",
       "  <thead>\n",
       "    <tr style=\"text-align: right;\">\n",
       "      <th></th>\n",
       "      <th>EMPLOYEE_MD5</th>\n",
       "      <th>JOB_TITLES</th>\n",
       "      <th>COMPANY_NAME</th>\n",
       "      <th>ATTENDED_SCHOOLS</th>\n",
       "    </tr>\n",
       "  </thead>\n",
       "  <tbody>\n",
       "    <tr>\n",
       "      <th>48</th>\n",
       "      <td>bad2317579429087ce03440a496c539a</td>\n",
       "      <td>Head of Sales for the MENA</td>\n",
       "      <td>Twitter</td>\n",
       "      <td>ESCP Europe</td>\n",
       "    </tr>\n",
       "    <tr>\n",
       "      <th>5430</th>\n",
       "      <td>78126b73ec446d439566a39404727e14</td>\n",
       "      <td>Senior Consultant Adoption and Change Management</td>\n",
       "      <td>Microsoft</td>\n",
       "      <td>ESCP Europe</td>\n",
       "    </tr>\n",
       "    <tr>\n",
       "      <th>12015</th>\n",
       "      <td>632d1dc700758594338057f386fe949d</td>\n",
       "      <td>Head of Business Development EMEA</td>\n",
       "      <td>Chainalysis</td>\n",
       "      <td>ESCP Europe</td>\n",
       "    </tr>\n",
       "    <tr>\n",
       "      <th>14478</th>\n",
       "      <td>823aaaa5d1876d0a3a71852ed620c7f9</td>\n",
       "      <td>Executive Director of Business Development &amp; P...</td>\n",
       "      <td>Babylon Health</td>\n",
       "      <td>ESCP Europe London Business School Panthéon-A...</td>\n",
       "    </tr>\n",
       "    <tr>\n",
       "      <th>15364</th>\n",
       "      <td>c25fde150286c72d30daa90763245b33</td>\n",
       "      <td>Vice President</td>\n",
       "      <td>Investcorp</td>\n",
       "      <td>ESCP Europe University of Genoa</td>\n",
       "    </tr>\n",
       "  </tbody>\n",
       "</table>\n",
       "</div>"
      ],
      "text/plain": [
       "                           EMPLOYEE_MD5  \\\n",
       "48     bad2317579429087ce03440a496c539a   \n",
       "5430   78126b73ec446d439566a39404727e14   \n",
       "12015  632d1dc700758594338057f386fe949d   \n",
       "14478  823aaaa5d1876d0a3a71852ed620c7f9   \n",
       "15364  c25fde150286c72d30daa90763245b33   \n",
       "\n",
       "                                              JOB_TITLES    COMPANY_NAME  \\\n",
       "48                            Head of Sales for the MENA         Twitter   \n",
       "5430    Senior Consultant Adoption and Change Management       Microsoft   \n",
       "12015                  Head of Business Development EMEA     Chainalysis   \n",
       "14478  Executive Director of Business Development & P...  Babylon Health   \n",
       "15364                                     Vice President      Investcorp   \n",
       "\n",
       "                                        ATTENDED_SCHOOLS  \n",
       "48                                           ESCP Europe  \n",
       "5430                                         ESCP Europe  \n",
       "12015                                        ESCP Europe  \n",
       "14478   ESCP Europe London Business School Panthéon-A...  \n",
       "15364                    ESCP Europe University of Genoa  "
      ]
     },
     "execution_count": 39,
     "metadata": {},
     "output_type": "execute_result"
    }
   ],
   "source": [
    "school_name = 'ESCP' # try with Harvard, HEC, Seoul National University\n",
    "alumnis=employee_df.dropna(subset=['ATTENDED_SCHOOLS'])\n",
    "alumnis[alumnis['ATTENDED_SCHOOLS'].str.contains(school_name)]"
   ]
  }
 ],
 "metadata": {
  "kernelspec": {
   "display_name": "base",
   "language": "python",
   "name": "python3"
  },
  "language_info": {
   "codemirror_mode": {
    "name": "ipython",
    "version": 3
   },
   "file_extension": ".py",
   "mimetype": "text/x-python",
   "name": "python",
   "nbconvert_exporter": "python",
   "pygments_lexer": "ipython3",
   "version": "3.9.12 (main, Apr  5 2022, 01:53:17) \n[Clang 12.0.0 ]"
  },
  "orig_nbformat": 4,
  "vscode": {
   "interpreter": {
    "hash": "95da1f746ccbd255bf094ef32bfcf2389ac9a935fcbf32e3b70049c241d3c0a8"
   }
  }
 },
 "nbformat": 4,
 "nbformat_minor": 2
}
